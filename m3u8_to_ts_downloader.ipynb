{
 "cells": [
  {
   "cell_type": "code",
   "execution_count": null,
   "metadata": {},
   "outputs": [],
   "source": [
    "import requests\n",
    "import m3u8\n",
    "\n",
    "url=\"m3u8 file url\"\n",
    "\n",
    "fileName=url[-10:]\n",
    "r=requests.get(url)\n",
    "\n",
    "m3_Handle= m3u8.loads(r.text)\n",
    "\n",
    "fhdlink=m3_Handle.data[\"playlists\"][0][\"uri\"]\n",
    "\n",
    "m3vid=m3u8.load(fhdlink)\n",
    "io=len(m3vid.data[\"segments\"])\n",
    "\n",
    "with open(fileName,\"wb\") as f:\n",
    "    for seg in m3vid.data[\"segments\"]:\n",
    "        segurl=seg[\"uri\"]\n",
    "        rvids=requests.get(segurl)\n",
    "        f.write(rvids.content)"
   ]
  }
 ],
 "metadata": {
  "language_info": {
   "name": "python"
  },
  "orig_nbformat": 4
 },
 "nbformat": 4,
 "nbformat_minor": 2
}
